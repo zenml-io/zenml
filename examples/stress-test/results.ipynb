{
 "cells": [
  {
   "cell_type": "markdown",
   "id": "63ab391a",
   "metadata": {},
   "source": [
    "# Stress Test Results\n"
   ]
  },
  {
   "cell_type": "code",
   "execution_count": 1,
   "id": "53e60d14",
   "metadata": {},
   "outputs": [],
   "source": [
    "from utils import LogFile, LogType"
   ]
  },
  {
   "cell_type": "code",
   "execution_count": 2,
   "id": "ee4c7fb0",
   "metadata": {
    "collapsed": true,
    "jupyter": {
     "outputs_hidden": true,
     "source_hidden": true
    }
   },
   "outputs": [],
   "source": [
    "\n",
    "# log_file = LogFile.parse_logs(\"../../../../docs/aiml/zenml/stress-tests/server-logs-040-40th-1000-steps-30s-50-batch-no-rbac-endpoint-metrics.txt\")\n",
    "# log_file = LogFile.parse_logs(\"../../../../docs/aiml/zenml/stress-tests/server-logs-041-40th-1000-steps-30s-50-batch-no-rbac-no-service-connector.txt\")\n",
    "# log_file = LogFile.parse_logs(\"../../../../docs/aiml/zenml/stress-tests/server-logs-042-20th-1000-steps-30s-50-batch-no-rbac-no-service-connector.txt\")\n",
    "# log_file = LogFile.parse_logs(\"../../../../docs/aiml/zenml/stress-tests/server-logs-043-2th-1000-steps-30s-50-batch-no-rbac-no-service-connector.txt\")\n",
    "# log_file = LogFile.parse_logs(\"../../../../docs/aiml/zenml/stress-tests/server-logs-044-4th-1000-steps-30s-50-batch-no-rbac-no-service-connector.txt\")\n",
    "# log_file = LogFile.parse_logs(\"../../../../docs/aiml/zenml/stress-tests/server-logs-044-4th-1000-steps-30s-50-batch-no-rbac-no-service-connector-take-2.txt\")\n",
    "# log_file = LogFile.parse_logs(\"../../../../docs/aiml/zenml/stress-tests/server-logs-045-8th-1000-steps-30s-50-batch-no-rbac-no-service-connector.txt\")\n",
    "# log_file = LogFile.parse_logs(\"../../../../docs/aiml/zenml/stress-tests/server-logs-046-8th-1000-steps-30s-50-batch-no-rbac.txt\")\n",
    "# log_file = LogFile.parse_logs(\"../../../../docs/aiml/zenml/stress-tests/server-logs-047-2th-1000-steps-30s-50-batch-no-rbac.txt\")\n",
    "# log_file = LogFile.parse_logs(\"../../../../docs/aiml/zenml/stress-tests/server-logs-048-2th-1000-steps-30s-50-batch.txt\")\n",
    "# log_file = LogFile.parse_logs(\"../../../../docs/aiml/zenml/stress-tests/server-logs-049-4th-1000-steps-30s-50-batch.txt\")\n",
    "log_file = LogFile.parse_logs(\"../../../../docs/aiml/zenml/stress-tests/server-logs-050-8th-1000-steps-30s-50-batch.txt\")\n",
    "\n",
    "\n",
    "\n"
   ]
  },
  {
   "cell_type": "code",
   "execution_count": null,
   "id": "4b7dab39",
   "metadata": {
    "collapsed": true,
    "jupyter": {
     "outputs_hidden": true,
     "source_hidden": true
    }
   },
   "outputs": [],
   "source": [
    "log_file.plot_request_flows(\n",
    "    # start_time = 600,\n",
    "    # end_time = 300,\n",
    "    # max_requests=5000,\n",
    "    # pps=10,\n",
    "    # width=2000,\n",
    "    height=1000,\n",
    "    width=1900,\n",
    "    # pod=1,\n",
    "    hide_legend=True,\n",
    "    hide_y_axis=True,\n",
    "    # api_call_filter=[\n",
    "    #     \".*/api/v1/service_connectors/<uuid>/client\",\n",
    "    #     \".*/api/v1/runs$\",\n",
    "    #     \".*/api/v1/pipeline_deployments\",\n",
    "    # ],\n",
    "    min_duration=1,\n",
    ")"
   ]
  },
  {
   "cell_type": "code",
   "execution_count": null,
   "id": "0a4670e1",
   "metadata": {
    "collapsed": true,
    "jupyter": {
     "outputs_hidden": true
    }
   },
   "outputs": [],
   "source": [
    "log_file.plot(\n",
    "    log_file.get_plot_fn(\n",
    "        log_type=LogType.API_COMPLETED,\n",
    "        # log_type=LogType.API_THROTTLED,\n",
    "        # log_type=LogType.API_ACCEPTED,\n",
    "        # log_type=LogType.ENDPOINT_SYNC_COMPLETED,\n",
    "        # log_type=LogType.SQL_COMPLETED,\n",
    "        y_metric=\"duration\",\n",
    "        # min_y=20000,\n",
    "        # plot_outside_y=True,\n",
    "    ),\n",
    "    top_n=10,\n",
    ")\n"
   ]
  },
  {
   "cell_type": "code",
   "execution_count": null,
   "id": "b84ef271",
   "metadata": {
    "collapsed": true,
    "jupyter": {
     "outputs_hidden": true,
     "source_hidden": true
    }
   },
   "outputs": [],
   "source": [
    "\n",
    "log_file.plot(\n",
    "    log_file.get_plot_fn(\n",
    "        y_metric=\"threads\",\n",
    "        # y_metric=\"memory_usage\",\n",
    "        # y_metric=\"active_requests\",\n",
    "        label_attribute=\"pod\",\n",
    "    ),\n",
    ")"
   ]
  }
 ],
 "metadata": {
  "kernelspec": {
   "display_name": ".venv",
   "language": "python",
   "name": "python3"
  },
  "language_info": {
   "codemirror_mode": {
    "name": "ipython",
    "version": 3
   },
   "file_extension": ".py",
   "mimetype": "text/x-python",
   "name": "python",
   "nbconvert_exporter": "python",
   "pygments_lexer": "ipython3",
   "version": "3.10.12"
  }
 },
 "nbformat": 4,
 "nbformat_minor": 5
}
